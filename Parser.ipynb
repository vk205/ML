{
 "cells": [
  {
   "cell_type": "markdown",
   "metadata": {},
   "source": [
    "# Парсинг "
   ]
  },
  {
   "cell_type": "markdown",
   "metadata": {},
   "source": [
    "**Задачи**\n",
    "\n",
    "- Собрать данные о продажах квартир в Перми (район, цена, этаж, площадь, кол-во комнат) с сайта avito.\n",
    "- Найти топ-5 самых дорогих, дешевых квартир.\n",
    "\n",
    "- Разделить квартиры на группы по районам, кол-во комнату, этажам. Рассчитать кол-во квартир и среднюю цену в каждой группе. \n",
    "- Оценить, где самые дорогие/дешевые квартиры.\n",
    "\n",
    "- Построить гистограмму, ящик с усами для различных групп.\n",
    "- Разработать функцию, которая формирует рейтинг квартир с заданными весам, к примеру (цена – вес 40%, площадь – вес 60%)\n",
    "\n",
    " Оценить самую популярную площадь, район, кол-во комнат.               "
   ]
  },
  {
   "cell_type": "markdown",
   "metadata": {},
   "source": [
    "### 1. Собираем данные о продажах квартир в Перми с сайта avito"
   ]
  },
  {
   "cell_type": "code",
   "execution_count": 2,
   "metadata": {},
   "outputs": [],
   "source": [
    "from bs4 import BeautifulSoup\n",
    "from selenium.webdriver import Chrome\n",
    "import pandas as pd\n",
    "import numpy as np"
   ]
  },
  {
   "cell_type": "code",
   "execution_count": 23,
   "metadata": {},
   "outputs": [],
   "source": [
    "browser = Chrome('chromedriver.exe')"
   ]
  },
  {
   "cell_type": "code",
   "execution_count": 24,
   "metadata": {},
   "outputs": [],
   "source": [
    "# Количество страниц для парсинга\n",
    "depth = 5"
   ]
  },
  {
   "cell_type": "code",
   "execution_count": 25,
   "metadata": {},
   "outputs": [],
   "source": [
    "url = 'https://www.avito.ru/perm/kvartiry/prodam-ASgBAgICAUSSA8YQ'"
   ]
  },
  {
   "cell_type": "code",
   "execution_count": 26,
   "metadata": {},
   "outputs": [],
   "source": [
    "def parser_on_page(i):\n",
    "    browser.get(url+f'?p={i}')\n",
    "    page = BeautifulSoup(browser.page_source, 'html.parser')\n",
    "    \n",
    "    address_tmp = []\n",
    "    floor_tmp = []\n",
    "    plan_tmp =[]\n",
    "    price_tmp = []\n",
    "    square_tmp = []\n",
    "    \n",
    "    selector = '.js-item-extended'\n",
    "    for item in page.select(selector):\n",
    "        \n",
    "        address = item.select('.item-address-georeferences-item__content')\n",
    "        plan_square_floor = item.select('.snippet-title-row')\n",
    "        price = item.select('.snippet-price')\n",
    "        \n",
    "        if plan_square_floor and address and price:\n",
    "            \n",
    "            plan_square_floor = plan_square_floor[0].text.strip()\n",
    "            plan, square, floor = plan_square_floor.split(',')\n",
    "            address = address[0].text.strip()\n",
    "            price = price[0].text.strip()\n",
    "\n",
    "            address_tmp.append(address)\n",
    "            floor_tmp.append(floor)\n",
    "            plan_tmp.append(plan)\n",
    "            price_tmp.append(price)\n",
    "            square_tmp.append(square)\n",
    "\n",
    "    return address_tmp,floor_tmp,plan_tmp, price_tmp,square_tmp"
   ]
  },
  {
   "cell_type": "code",
   "execution_count": 27,
   "metadata": {},
   "outputs": [],
   "source": [
    "address_list = []\n",
    "floor_list = []\n",
    "plan_list =[]\n",
    "price_list = []\n",
    "square_list = []\n",
    "\n",
    "for n in range(1,depth):\n",
    "    address, floor,plan, price,square = parser_on_page(n)\n",
    "         \n",
    "    address_list += address\n",
    "    floor_list += floor\n",
    "    plan_list += plan\n",
    "    price_list += price\n",
    "    square_list += square"
   ]
  },
  {
   "cell_type": "markdown",
   "metadata": {},
   "source": [
    "##### Формируем датафрейм и записываем в CSV-файл"
   ]
  },
  {
   "cell_type": "code",
   "execution_count": 28,
   "metadata": {},
   "outputs": [
    {
     "data": {
      "text/html": [
       "<div>\n",
       "<style scoped>\n",
       "    .dataframe tbody tr th:only-of-type {\n",
       "        vertical-align: middle;\n",
       "    }\n",
       "\n",
       "    .dataframe tbody tr th {\n",
       "        vertical-align: top;\n",
       "    }\n",
       "\n",
       "    .dataframe thead th {\n",
       "        text-align: right;\n",
       "    }\n",
       "</style>\n",
       "<table border=\"1\" class=\"dataframe\">\n",
       "  <thead>\n",
       "    <tr style=\"text-align: right;\">\n",
       "      <th></th>\n",
       "      <th>address</th>\n",
       "      <th>floor</th>\n",
       "      <th>plan</th>\n",
       "      <th>price</th>\n",
       "      <th>square</th>\n",
       "    </tr>\n",
       "  </thead>\n",
       "  <tbody>\n",
       "    <tr>\n",
       "      <th>0</th>\n",
       "      <td>р-н Мотовилихинский</td>\n",
       "      <td>9/17 эт.</td>\n",
       "      <td>4-к квартира</td>\n",
       "      <td>10 900 000  ₽</td>\n",
       "      <td>140 м²</td>\n",
       "    </tr>\n",
       "    <tr>\n",
       "      <th>1</th>\n",
       "      <td>р-н Свердловский</td>\n",
       "      <td>11/19 эт.</td>\n",
       "      <td>3-к квартира</td>\n",
       "      <td>7 400 000  ₽</td>\n",
       "      <td>91.6 м²</td>\n",
       "    </tr>\n",
       "    <tr>\n",
       "      <th>2</th>\n",
       "      <td>р-н Свердловский</td>\n",
       "      <td>1/31 эт.</td>\n",
       "      <td>3-к квартира</td>\n",
       "      <td>5 385 250  ₽</td>\n",
       "      <td>82.9 м²</td>\n",
       "    </tr>\n",
       "    <tr>\n",
       "      <th>3</th>\n",
       "      <td>р-н Свердловский</td>\n",
       "      <td>9/9 эт.</td>\n",
       "      <td>Квартира-студия</td>\n",
       "      <td>850 000  ₽</td>\n",
       "      <td>17.5 м²</td>\n",
       "    </tr>\n",
       "    <tr>\n",
       "      <th>4</th>\n",
       "      <td>р-н Орджоникидзевский</td>\n",
       "      <td>8/9 эт.</td>\n",
       "      <td>1-к квартира</td>\n",
       "      <td>1 900 000  ₽</td>\n",
       "      <td>33.3 м²</td>\n",
       "    </tr>\n",
       "  </tbody>\n",
       "</table>\n",
       "</div>"
      ],
      "text/plain": [
       "                 address       floor             plan          price    square\n",
       "0    р-н Мотовилихинский    9/17 эт.     4-к квартира  10 900 000  ₽    140 м²\n",
       "1       р-н Свердловский   11/19 эт.     3-к квартира   7 400 000  ₽   91.6 м²\n",
       "2       р-н Свердловский    1/31 эт.     3-к квартира   5 385 250  ₽   82.9 м²\n",
       "3       р-н Свердловский     9/9 эт.  Квартира-студия     850 000  ₽   17.5 м²\n",
       "4  р-н Орджоникидзевский     8/9 эт.     1-к квартира   1 900 000  ₽   33.3 м²"
      ]
     },
     "execution_count": 28,
     "metadata": {},
     "output_type": "execute_result"
    }
   ],
   "source": [
    "df_0 = pd.DataFrame(\n",
    "    {  \n",
    "        'address': address_list,\n",
    "        'floor': floor_list,\n",
    "        'plan': plan_list,\n",
    "        'price': price_list,\n",
    "        'square' : square_list\n",
    "    })\n",
    "\n",
    "#df_0.to_csv('avito.csv', sep=',', encoding='utf-8', index=False)\n",
    "df_0.head()"
   ]
  },
  {
   "cell_type": "markdown",
   "metadata": {},
   "source": [
    "### 2. Поиск топ-5 самых дорогих, дешевых квартир"
   ]
  },
  {
   "cell_type": "code",
   "execution_count": 3,
   "metadata": {},
   "outputs": [
    {
     "data": {
      "text/html": [
       "<div>\n",
       "<style scoped>\n",
       "    .dataframe tbody tr th:only-of-type {\n",
       "        vertical-align: middle;\n",
       "    }\n",
       "\n",
       "    .dataframe tbody tr th {\n",
       "        vertical-align: top;\n",
       "    }\n",
       "\n",
       "    .dataframe thead th {\n",
       "        text-align: right;\n",
       "    }\n",
       "</style>\n",
       "<table border=\"1\" class=\"dataframe\">\n",
       "  <thead>\n",
       "    <tr style=\"text-align: right;\">\n",
       "      <th></th>\n",
       "      <th>address</th>\n",
       "      <th>floor</th>\n",
       "      <th>plan</th>\n",
       "      <th>price</th>\n",
       "      <th>square</th>\n",
       "    </tr>\n",
       "  </thead>\n",
       "  <tbody>\n",
       "    <tr>\n",
       "      <th>0</th>\n",
       "      <td>р-н Дзержинский</td>\n",
       "      <td>2/5 эт.</td>\n",
       "      <td>3-к квартира</td>\n",
       "      <td>2 600 000  ₽</td>\n",
       "      <td>42.4 м²</td>\n",
       "    </tr>\n",
       "    <tr>\n",
       "      <th>1</th>\n",
       "      <td>р-н Дзержинский</td>\n",
       "      <td>10/18 эт.</td>\n",
       "      <td>1-к квартира</td>\n",
       "      <td>3 390 000  ₽</td>\n",
       "      <td>39.2 м²</td>\n",
       "    </tr>\n",
       "    <tr>\n",
       "      <th>2</th>\n",
       "      <td>р-н Свердловский</td>\n",
       "      <td>19/26 эт.</td>\n",
       "      <td>3-к квартира</td>\n",
       "      <td>9 500 000  ₽</td>\n",
       "      <td>91.1 м²</td>\n",
       "    </tr>\n",
       "    <tr>\n",
       "      <th>3</th>\n",
       "      <td>р-н Ленинский</td>\n",
       "      <td>2/8 эт.</td>\n",
       "      <td>2-к квартира</td>\n",
       "      <td>6 999 000  ₽</td>\n",
       "      <td>63.6 м²</td>\n",
       "    </tr>\n",
       "    <tr>\n",
       "      <th>4</th>\n",
       "      <td>р-н Орджоникидзевский</td>\n",
       "      <td>5/5 эт.</td>\n",
       "      <td>1-к квартира</td>\n",
       "      <td>1 360 254  ₽</td>\n",
       "      <td>32 м²</td>\n",
       "    </tr>\n",
       "    <tr>\n",
       "      <th>...</th>\n",
       "      <td>...</td>\n",
       "      <td>...</td>\n",
       "      <td>...</td>\n",
       "      <td>...</td>\n",
       "      <td>...</td>\n",
       "    </tr>\n",
       "    <tr>\n",
       "      <th>2419</th>\n",
       "      <td>р-н Кировский</td>\n",
       "      <td>1/5 эт.</td>\n",
       "      <td>Квартира-студия</td>\n",
       "      <td>1 184 000  ₽</td>\n",
       "      <td>29.6 м²</td>\n",
       "    </tr>\n",
       "    <tr>\n",
       "      <th>2420</th>\n",
       "      <td>р-н Орджоникидзевский</td>\n",
       "      <td>5/5 эт.</td>\n",
       "      <td>1-к квартира</td>\n",
       "      <td>1 130 000  ₽</td>\n",
       "      <td>29 м²</td>\n",
       "    </tr>\n",
       "    <tr>\n",
       "      <th>2421</th>\n",
       "      <td>р-н Свердловский</td>\n",
       "      <td>4/10 эт.</td>\n",
       "      <td>3-к квартира</td>\n",
       "      <td>6 600 000  ₽</td>\n",
       "      <td>86.8 м²</td>\n",
       "    </tr>\n",
       "    <tr>\n",
       "      <th>2422</th>\n",
       "      <td>р-н Кировский</td>\n",
       "      <td>5/5 эт.</td>\n",
       "      <td>2-к квартира</td>\n",
       "      <td>1 800 000  ₽</td>\n",
       "      <td>38 м²</td>\n",
       "    </tr>\n",
       "    <tr>\n",
       "      <th>2423</th>\n",
       "      <td>р-н Мотовилихинский</td>\n",
       "      <td>5/9 эт.</td>\n",
       "      <td>3-к квартира</td>\n",
       "      <td>4 500 000  ₽</td>\n",
       "      <td>63 м²</td>\n",
       "    </tr>\n",
       "  </tbody>\n",
       "</table>\n",
       "<p>2424 rows × 5 columns</p>\n",
       "</div>"
      ],
      "text/plain": [
       "                    address       floor             plan         price  \\\n",
       "0           р-н Дзержинский     2/5 эт.     3-к квартира  2 600 000  ₽   \n",
       "1           р-н Дзержинский   10/18 эт.     1-к квартира  3 390 000  ₽   \n",
       "2          р-н Свердловский   19/26 эт.     3-к квартира  9 500 000  ₽   \n",
       "3             р-н Ленинский     2/8 эт.     2-к квартира  6 999 000  ₽   \n",
       "4     р-н Орджоникидзевский     5/5 эт.     1-к квартира  1 360 254  ₽   \n",
       "...                     ...         ...              ...           ...   \n",
       "2419          р-н Кировский     1/5 эт.  Квартира-студия  1 184 000  ₽   \n",
       "2420  р-н Орджоникидзевский     5/5 эт.     1-к квартира  1 130 000  ₽   \n",
       "2421       р-н Свердловский    4/10 эт.     3-к квартира  6 600 000  ₽   \n",
       "2422          р-н Кировский     5/5 эт.     2-к квартира  1 800 000  ₽   \n",
       "2423    р-н Мотовилихинский     5/9 эт.     3-к квартира  4 500 000  ₽   \n",
       "\n",
       "        square  \n",
       "0      42.4 м²  \n",
       "1      39.2 м²  \n",
       "2      91.1 м²  \n",
       "3      63.6 м²  \n",
       "4        32 м²  \n",
       "...        ...  \n",
       "2419   29.6 м²  \n",
       "2420     29 м²  \n",
       "2421   86.8 м²  \n",
       "2422     38 м²  \n",
       "2423     63 м²  \n",
       "\n",
       "[2424 rows x 5 columns]"
      ]
     },
     "execution_count": 3,
     "metadata": {},
     "output_type": "execute_result"
    }
   ],
   "source": [
    "df = pd.read_csv('avito.csv')\n",
    "df"
   ]
  },
  {
   "cell_type": "code",
   "execution_count": 4,
   "metadata": {},
   "outputs": [
    {
     "data": {
      "text/plain": [
       "address    object\n",
       "floor      object\n",
       "plan       object\n",
       "price      object\n",
       "square     object\n",
       "dtype: object"
      ]
     },
     "execution_count": 4,
     "metadata": {},
     "output_type": "execute_result"
    }
   ],
   "source": [
    "df.dtypes"
   ]
  },
  {
   "cell_type": "markdown",
   "metadata": {},
   "source": [
    "##### Обработка данных в колонке **price**"
   ]
  },
  {
   "cell_type": "code",
   "execution_count": 5,
   "metadata": {},
   "outputs": [
    {
     "data": {
      "text/html": [
       "<div>\n",
       "<style scoped>\n",
       "    .dataframe tbody tr th:only-of-type {\n",
       "        vertical-align: middle;\n",
       "    }\n",
       "\n",
       "    .dataframe tbody tr th {\n",
       "        vertical-align: top;\n",
       "    }\n",
       "\n",
       "    .dataframe thead th {\n",
       "        text-align: right;\n",
       "    }\n",
       "</style>\n",
       "<table border=\"1\" class=\"dataframe\">\n",
       "  <thead>\n",
       "    <tr style=\"text-align: right;\">\n",
       "      <th></th>\n",
       "      <th>address</th>\n",
       "      <th>floor</th>\n",
       "      <th>plan</th>\n",
       "      <th>price</th>\n",
       "      <th>square</th>\n",
       "    </tr>\n",
       "  </thead>\n",
       "  <tbody>\n",
       "    <tr>\n",
       "      <th>0</th>\n",
       "      <td>р-н Дзержинский</td>\n",
       "      <td>2/5 эт.</td>\n",
       "      <td>3-к квартира</td>\n",
       "      <td>2600000.0</td>\n",
       "      <td>42.4 м²</td>\n",
       "    </tr>\n",
       "    <tr>\n",
       "      <th>1</th>\n",
       "      <td>р-н Дзержинский</td>\n",
       "      <td>10/18 эт.</td>\n",
       "      <td>1-к квартира</td>\n",
       "      <td>3390000.0</td>\n",
       "      <td>39.2 м²</td>\n",
       "    </tr>\n",
       "    <tr>\n",
       "      <th>2</th>\n",
       "      <td>р-н Свердловский</td>\n",
       "      <td>19/26 эт.</td>\n",
       "      <td>3-к квартира</td>\n",
       "      <td>9500000.0</td>\n",
       "      <td>91.1 м²</td>\n",
       "    </tr>\n",
       "    <tr>\n",
       "      <th>3</th>\n",
       "      <td>р-н Ленинский</td>\n",
       "      <td>2/8 эт.</td>\n",
       "      <td>2-к квартира</td>\n",
       "      <td>6999000.0</td>\n",
       "      <td>63.6 м²</td>\n",
       "    </tr>\n",
       "    <tr>\n",
       "      <th>4</th>\n",
       "      <td>р-н Орджоникидзевский</td>\n",
       "      <td>5/5 эт.</td>\n",
       "      <td>1-к квартира</td>\n",
       "      <td>1360254.0</td>\n",
       "      <td>32 м²</td>\n",
       "    </tr>\n",
       "  </tbody>\n",
       "</table>\n",
       "</div>"
      ],
      "text/plain": [
       "                 address       floor          plan      price    square\n",
       "0        р-н Дзержинский     2/5 эт.  3-к квартира  2600000.0   42.4 м²\n",
       "1        р-н Дзержинский   10/18 эт.  1-к квартира  3390000.0   39.2 м²\n",
       "2       р-н Свердловский   19/26 эт.  3-к квартира  9500000.0   91.1 м²\n",
       "3          р-н Ленинский     2/8 эт.  2-к квартира  6999000.0   63.6 м²\n",
       "4  р-н Орджоникидзевский     5/5 эт.  1-к квартира  1360254.0     32 м²"
      ]
     },
     "execution_count": 5,
     "metadata": {},
     "output_type": "execute_result"
    }
   ],
   "source": [
    "df['price'] = df.price.str.replace(' ', '')\n",
    "df['price'] = df.price.str.extract('([0-9]+)')\n",
    "df['price'] = df['price'].astype(float)\n",
    "df.head()"
   ]
  },
  {
   "cell_type": "markdown",
   "metadata": {},
   "source": [
    "##### Топ 5 самых дорогих квартир"
   ]
  },
  {
   "cell_type": "code",
   "execution_count": 6,
   "metadata": {},
   "outputs": [
    {
     "data": {
      "text/html": [
       "<div>\n",
       "<style scoped>\n",
       "    .dataframe tbody tr th:only-of-type {\n",
       "        vertical-align: middle;\n",
       "    }\n",
       "\n",
       "    .dataframe tbody tr th {\n",
       "        vertical-align: top;\n",
       "    }\n",
       "\n",
       "    .dataframe thead th {\n",
       "        text-align: right;\n",
       "    }\n",
       "</style>\n",
       "<table border=\"1\" class=\"dataframe\">\n",
       "  <thead>\n",
       "    <tr style=\"text-align: right;\">\n",
       "      <th></th>\n",
       "      <th>index</th>\n",
       "      <th>address</th>\n",
       "      <th>floor</th>\n",
       "      <th>plan</th>\n",
       "      <th>price</th>\n",
       "      <th>square</th>\n",
       "    </tr>\n",
       "  </thead>\n",
       "  <tbody>\n",
       "    <tr>\n",
       "      <th>0</th>\n",
       "      <td>166</td>\n",
       "      <td>р-н Свердловский</td>\n",
       "      <td>17/20 эт.</td>\n",
       "      <td>5-к квартира</td>\n",
       "      <td>27000000.0</td>\n",
       "      <td>180.9 м²</td>\n",
       "    </tr>\n",
       "    <tr>\n",
       "      <th>1</th>\n",
       "      <td>154</td>\n",
       "      <td>р-н Свердловский</td>\n",
       "      <td>20/21 эт.</td>\n",
       "      <td>2-к квартира</td>\n",
       "      <td>25000000.0</td>\n",
       "      <td>76.4 м²</td>\n",
       "    </tr>\n",
       "    <tr>\n",
       "      <th>2</th>\n",
       "      <td>173</td>\n",
       "      <td>р-н Свердловский</td>\n",
       "      <td>6/24 эт.</td>\n",
       "      <td>3-к квартира</td>\n",
       "      <td>25000000.0</td>\n",
       "      <td>126.8 м²</td>\n",
       "    </tr>\n",
       "    <tr>\n",
       "      <th>3</th>\n",
       "      <td>1374</td>\n",
       "      <td>р-н Свердловский</td>\n",
       "      <td>12/24 эт.</td>\n",
       "      <td>4-к квартира</td>\n",
       "      <td>24900000.0</td>\n",
       "      <td>165 м²</td>\n",
       "    </tr>\n",
       "    <tr>\n",
       "      <th>4</th>\n",
       "      <td>1093</td>\n",
       "      <td>р-н Свердловский</td>\n",
       "      <td>6/6 эт.</td>\n",
       "      <td>5-к квартира</td>\n",
       "      <td>22000000.0</td>\n",
       "      <td>200 м²</td>\n",
       "    </tr>\n",
       "  </tbody>\n",
       "</table>\n",
       "</div>"
      ],
      "text/plain": [
       "   index           address       floor          plan       price     square\n",
       "0    166  р-н Свердловский   17/20 эт.  5-к квартира  27000000.0   180.9 м²\n",
       "1    154  р-н Свердловский   20/21 эт.  2-к квартира  25000000.0    76.4 м²\n",
       "2    173  р-н Свердловский    6/24 эт.  3-к квартира  25000000.0   126.8 м²\n",
       "3   1374  р-н Свердловский   12/24 эт.  4-к квартира  24900000.0     165 м²\n",
       "4   1093  р-н Свердловский     6/6 эт.  5-к квартира  22000000.0     200 м²"
      ]
     },
     "execution_count": 6,
     "metadata": {},
     "output_type": "execute_result"
    }
   ],
   "source": [
    "dfl = df.nlargest(5,'price').reset_index()\n",
    "dfl"
   ]
  },
  {
   "cell_type": "markdown",
   "metadata": {},
   "source": [
    "##### Топ 5 самых дешевых"
   ]
  },
  {
   "cell_type": "code",
   "execution_count": 7,
   "metadata": {},
   "outputs": [
    {
     "data": {
      "text/html": [
       "<div>\n",
       "<style scoped>\n",
       "    .dataframe tbody tr th:only-of-type {\n",
       "        vertical-align: middle;\n",
       "    }\n",
       "\n",
       "    .dataframe tbody tr th {\n",
       "        vertical-align: top;\n",
       "    }\n",
       "\n",
       "    .dataframe thead th {\n",
       "        text-align: right;\n",
       "    }\n",
       "</style>\n",
       "<table border=\"1\" class=\"dataframe\">\n",
       "  <thead>\n",
       "    <tr style=\"text-align: right;\">\n",
       "      <th></th>\n",
       "      <th>index</th>\n",
       "      <th>address</th>\n",
       "      <th>floor</th>\n",
       "      <th>plan</th>\n",
       "      <th>price</th>\n",
       "      <th>square</th>\n",
       "    </tr>\n",
       "  </thead>\n",
       "  <tbody>\n",
       "    <tr>\n",
       "      <th>0</th>\n",
       "      <td>1217</td>\n",
       "      <td>р-н Свердловский</td>\n",
       "      <td>1/5 эт.</td>\n",
       "      <td>1-к квартира</td>\n",
       "      <td>500000.0</td>\n",
       "      <td>13.5 м²</td>\n",
       "    </tr>\n",
       "    <tr>\n",
       "      <th>1</th>\n",
       "      <td>1302</td>\n",
       "      <td>р-н Свердловский</td>\n",
       "      <td>1/5 эт.</td>\n",
       "      <td>1-к квартира</td>\n",
       "      <td>555000.0</td>\n",
       "      <td>17 м²</td>\n",
       "    </tr>\n",
       "    <tr>\n",
       "      <th>2</th>\n",
       "      <td>234</td>\n",
       "      <td>р-н Свердловский</td>\n",
       "      <td>2/3 эт.</td>\n",
       "      <td>Квартира-студия</td>\n",
       "      <td>650000.0</td>\n",
       "      <td>13.5 м²</td>\n",
       "    </tr>\n",
       "    <tr>\n",
       "      <th>3</th>\n",
       "      <td>1122</td>\n",
       "      <td>р-н Кировский</td>\n",
       "      <td>2/5 эт.</td>\n",
       "      <td>1-к квартира</td>\n",
       "      <td>670000.0</td>\n",
       "      <td>14 м²</td>\n",
       "    </tr>\n",
       "    <tr>\n",
       "      <th>4</th>\n",
       "      <td>220</td>\n",
       "      <td>р-н Дзержинский</td>\n",
       "      <td>3/5 эт.</td>\n",
       "      <td>1-к квартира</td>\n",
       "      <td>700000.0</td>\n",
       "      <td>18 м²</td>\n",
       "    </tr>\n",
       "  </tbody>\n",
       "</table>\n",
       "</div>"
      ],
      "text/plain": [
       "   index           address     floor             plan     price    square\n",
       "0   1217  р-н Свердловский   1/5 эт.     1-к квартира  500000.0   13.5 м²\n",
       "1   1302  р-н Свердловский   1/5 эт.     1-к квартира  555000.0     17 м²\n",
       "2    234  р-н Свердловский   2/3 эт.  Квартира-студия  650000.0   13.5 м²\n",
       "3   1122     р-н Кировский   2/5 эт.     1-к квартира  670000.0     14 м²\n",
       "4    220   р-н Дзержинский   3/5 эт.     1-к квартира  700000.0     18 м²"
      ]
     },
     "execution_count": 7,
     "metadata": {},
     "output_type": "execute_result"
    }
   ],
   "source": [
    "dfl = df.nsmallest(5,'price').reset_index()\n",
    "dfl"
   ]
  },
  {
   "cell_type": "markdown",
   "metadata": {},
   "source": [
    "### 3. Делим квартиры на группы по районам, кол-во комнату, этажам. Рассчитываем кол-во квартир и среднюю цену в каждой группе"
   ]
  },
  {
   "cell_type": "markdown",
   "metadata": {},
   "source": [
    "##### Обработка данных в колонке **square**"
   ]
  },
  {
   "cell_type": "code",
   "execution_count": 8,
   "metadata": {
    "scrolled": false
   },
   "outputs": [
    {
     "data": {
      "text/html": [
       "<div>\n",
       "<style scoped>\n",
       "    .dataframe tbody tr th:only-of-type {\n",
       "        vertical-align: middle;\n",
       "    }\n",
       "\n",
       "    .dataframe tbody tr th {\n",
       "        vertical-align: top;\n",
       "    }\n",
       "\n",
       "    .dataframe thead th {\n",
       "        text-align: right;\n",
       "    }\n",
       "</style>\n",
       "<table border=\"1\" class=\"dataframe\">\n",
       "  <thead>\n",
       "    <tr style=\"text-align: right;\">\n",
       "      <th></th>\n",
       "      <th>address</th>\n",
       "      <th>floor</th>\n",
       "      <th>plan</th>\n",
       "      <th>price</th>\n",
       "      <th>square</th>\n",
       "    </tr>\n",
       "  </thead>\n",
       "  <tbody>\n",
       "    <tr>\n",
       "      <th>0</th>\n",
       "      <td>р-н Дзержинский</td>\n",
       "      <td>2/5 эт.</td>\n",
       "      <td>3-к квартира</td>\n",
       "      <td>2600000.0</td>\n",
       "      <td>42.4</td>\n",
       "    </tr>\n",
       "    <tr>\n",
       "      <th>1</th>\n",
       "      <td>р-н Дзержинский</td>\n",
       "      <td>10/18 эт.</td>\n",
       "      <td>1-к квартира</td>\n",
       "      <td>3390000.0</td>\n",
       "      <td>39.2</td>\n",
       "    </tr>\n",
       "    <tr>\n",
       "      <th>2</th>\n",
       "      <td>р-н Свердловский</td>\n",
       "      <td>19/26 эт.</td>\n",
       "      <td>3-к квартира</td>\n",
       "      <td>9500000.0</td>\n",
       "      <td>91.1</td>\n",
       "    </tr>\n",
       "    <tr>\n",
       "      <th>3</th>\n",
       "      <td>р-н Ленинский</td>\n",
       "      <td>2/8 эт.</td>\n",
       "      <td>2-к квартира</td>\n",
       "      <td>6999000.0</td>\n",
       "      <td>63.6</td>\n",
       "    </tr>\n",
       "    <tr>\n",
       "      <th>4</th>\n",
       "      <td>р-н Орджоникидзевский</td>\n",
       "      <td>5/5 эт.</td>\n",
       "      <td>1-к квартира</td>\n",
       "      <td>1360254.0</td>\n",
       "      <td>32.0</td>\n",
       "    </tr>\n",
       "  </tbody>\n",
       "</table>\n",
       "</div>"
      ],
      "text/plain": [
       "                 address       floor          plan      price  square\n",
       "0        р-н Дзержинский     2/5 эт.  3-к квартира  2600000.0    42.4\n",
       "1        р-н Дзержинский   10/18 эт.  1-к квартира  3390000.0    39.2\n",
       "2       р-н Свердловский   19/26 эт.  3-к квартира  9500000.0    91.1\n",
       "3          р-н Ленинский     2/8 эт.  2-к квартира  6999000.0    63.6\n",
       "4  р-н Орджоникидзевский     5/5 эт.  1-к квартира  1360254.0    32.0"
      ]
     },
     "execution_count": 8,
     "metadata": {},
     "output_type": "execute_result"
    }
   ],
   "source": [
    "df['square'] = df.square.str.replace(' м²', '')\n",
    "df['square'] = df.square.str.replace(' ', '')\n",
    "df['square'] = df['square'].astype(float)\n",
    "df.head()"
   ]
  },
  {
   "cell_type": "markdown",
   "metadata": {},
   "source": [
    "##### Обработка данных в колонке floor"
   ]
  },
  {
   "cell_type": "code",
   "execution_count": 9,
   "metadata": {},
   "outputs": [
    {
     "data": {
      "text/html": [
       "<div>\n",
       "<style scoped>\n",
       "    .dataframe tbody tr th:only-of-type {\n",
       "        vertical-align: middle;\n",
       "    }\n",
       "\n",
       "    .dataframe tbody tr th {\n",
       "        vertical-align: top;\n",
       "    }\n",
       "\n",
       "    .dataframe thead th {\n",
       "        text-align: right;\n",
       "    }\n",
       "</style>\n",
       "<table border=\"1\" class=\"dataframe\">\n",
       "  <thead>\n",
       "    <tr style=\"text-align: right;\">\n",
       "      <th></th>\n",
       "      <th>address</th>\n",
       "      <th>floor</th>\n",
       "      <th>plan</th>\n",
       "      <th>price</th>\n",
       "      <th>square</th>\n",
       "      <th>floorsTotal</th>\n",
       "    </tr>\n",
       "  </thead>\n",
       "  <tbody>\n",
       "    <tr>\n",
       "      <th>0</th>\n",
       "      <td>р-н Дзержинский</td>\n",
       "      <td>2</td>\n",
       "      <td>3-к квартира</td>\n",
       "      <td>2600000.0</td>\n",
       "      <td>42.4</td>\n",
       "      <td>5</td>\n",
       "    </tr>\n",
       "    <tr>\n",
       "      <th>1</th>\n",
       "      <td>р-н Дзержинский</td>\n",
       "      <td>10</td>\n",
       "      <td>1-к квартира</td>\n",
       "      <td>3390000.0</td>\n",
       "      <td>39.2</td>\n",
       "      <td>18</td>\n",
       "    </tr>\n",
       "    <tr>\n",
       "      <th>2</th>\n",
       "      <td>р-н Свердловский</td>\n",
       "      <td>19</td>\n",
       "      <td>3-к квартира</td>\n",
       "      <td>9500000.0</td>\n",
       "      <td>91.1</td>\n",
       "      <td>26</td>\n",
       "    </tr>\n",
       "    <tr>\n",
       "      <th>3</th>\n",
       "      <td>р-н Ленинский</td>\n",
       "      <td>2</td>\n",
       "      <td>2-к квартира</td>\n",
       "      <td>6999000.0</td>\n",
       "      <td>63.6</td>\n",
       "      <td>8</td>\n",
       "    </tr>\n",
       "    <tr>\n",
       "      <th>4</th>\n",
       "      <td>р-н Орджоникидзевский</td>\n",
       "      <td>5</td>\n",
       "      <td>1-к квартира</td>\n",
       "      <td>1360254.0</td>\n",
       "      <td>32.0</td>\n",
       "      <td>5</td>\n",
       "    </tr>\n",
       "  </tbody>\n",
       "</table>\n",
       "</div>"
      ],
      "text/plain": [
       "                 address floor          plan      price  square  floorsTotal\n",
       "0        р-н Дзержинский     2  3-к квартира  2600000.0    42.4            5\n",
       "1        р-н Дзержинский    10  1-к квартира  3390000.0    39.2           18\n",
       "2       р-н Свердловский    19  3-к квартира  9500000.0    91.1           26\n",
       "3          р-н Ленинский     2  2-к квартира  6999000.0    63.6            8\n",
       "4  р-н Орджоникидзевский     5  1-к квартира  1360254.0    32.0            5"
      ]
     },
     "execution_count": 9,
     "metadata": {},
     "output_type": "execute_result"
    }
   ],
   "source": [
    "df['floorsTotal'] = df['floor'].apply(lambda x:x.split('/')[1])\n",
    "df['floorsTotal'] = df['floorsTotal'].str.replace(' эт.', '').astype(int)\n",
    "df['floor'] = df['floor'].apply(lambda x:x.split('/')[0])\n",
    "df['floor'].astype(int)\n",
    "df.head()"
   ]
  },
  {
   "cell_type": "markdown",
   "metadata": {},
   "source": [
    "#### Группировка по району"
   ]
  },
  {
   "cell_type": "code",
   "execution_count": 10,
   "metadata": {},
   "outputs": [
    {
     "data": {
      "text/html": [
       "<div>\n",
       "<style scoped>\n",
       "    .dataframe tbody tr th:only-of-type {\n",
       "        vertical-align: middle;\n",
       "    }\n",
       "\n",
       "    .dataframe tbody tr th {\n",
       "        vertical-align: top;\n",
       "    }\n",
       "\n",
       "    .dataframe thead th {\n",
       "        text-align: right;\n",
       "    }\n",
       "</style>\n",
       "<table border=\"1\" class=\"dataframe\">\n",
       "  <thead>\n",
       "    <tr style=\"text-align: right;\">\n",
       "      <th></th>\n",
       "      <th>address</th>\n",
       "      <th>price</th>\n",
       "      <th>square</th>\n",
       "      <th>plan</th>\n",
       "    </tr>\n",
       "  </thead>\n",
       "  <tbody>\n",
       "    <tr>\n",
       "      <th>0</th>\n",
       "      <td>р-н Дзержинский</td>\n",
       "      <td>3.634053e+06</td>\n",
       "      <td>54.621839</td>\n",
       "      <td>435</td>\n",
       "    </tr>\n",
       "    <tr>\n",
       "      <th>1</th>\n",
       "      <td>р-н Индустриальный</td>\n",
       "      <td>3.299204e+06</td>\n",
       "      <td>51.086772</td>\n",
       "      <td>378</td>\n",
       "    </tr>\n",
       "    <tr>\n",
       "      <th>2</th>\n",
       "      <td>р-н Кировский</td>\n",
       "      <td>2.431641e+06</td>\n",
       "      <td>48.148077</td>\n",
       "      <td>260</td>\n",
       "    </tr>\n",
       "    <tr>\n",
       "      <th>3</th>\n",
       "      <td>р-н Ленинский</td>\n",
       "      <td>5.405051e+06</td>\n",
       "      <td>70.273333</td>\n",
       "      <td>135</td>\n",
       "    </tr>\n",
       "    <tr>\n",
       "      <th>4</th>\n",
       "      <td>р-н Мотовилихинский</td>\n",
       "      <td>3.204767e+06</td>\n",
       "      <td>53.094404</td>\n",
       "      <td>411</td>\n",
       "    </tr>\n",
       "    <tr>\n",
       "      <th>5</th>\n",
       "      <td>р-н Орджоникидзевский</td>\n",
       "      <td>2.121392e+06</td>\n",
       "      <td>47.371084</td>\n",
       "      <td>249</td>\n",
       "    </tr>\n",
       "    <tr>\n",
       "      <th>6</th>\n",
       "      <td>р-н Свердловский</td>\n",
       "      <td>3.791412e+06</td>\n",
       "      <td>53.746043</td>\n",
       "      <td>556</td>\n",
       "    </tr>\n",
       "  </tbody>\n",
       "</table>\n",
       "</div>"
      ],
      "text/plain": [
       "                 address         price     square  plan\n",
       "0        р-н Дзержинский  3.634053e+06  54.621839   435\n",
       "1     р-н Индустриальный  3.299204e+06  51.086772   378\n",
       "2          р-н Кировский  2.431641e+06  48.148077   260\n",
       "3          р-н Ленинский  5.405051e+06  70.273333   135\n",
       "4    р-н Мотовилихинский  3.204767e+06  53.094404   411\n",
       "5  р-н Орджоникидзевский  2.121392e+06  47.371084   249\n",
       "6       р-н Свердловский  3.791412e+06  53.746043   556"
      ]
     },
     "execution_count": 10,
     "metadata": {},
     "output_type": "execute_result"
    }
   ],
   "source": [
    "df.groupby(['address']).agg({'price':np.mean,\n",
    "                             'square': np.mean,\n",
    "                             'plan': np.ma.count}).reset_index()"
   ]
  },
  {
   "cell_type": "markdown",
   "metadata": {},
   "source": [
    "#### Группировка по количеству комнат"
   ]
  },
  {
   "cell_type": "code",
   "execution_count": 11,
   "metadata": {},
   "outputs": [
    {
     "data": {
      "text/html": [
       "<div>\n",
       "<style scoped>\n",
       "    .dataframe tbody tr th:only-of-type {\n",
       "        vertical-align: middle;\n",
       "    }\n",
       "\n",
       "    .dataframe tbody tr th {\n",
       "        vertical-align: top;\n",
       "    }\n",
       "\n",
       "    .dataframe thead th {\n",
       "        text-align: right;\n",
       "    }\n",
       "</style>\n",
       "<table border=\"1\" class=\"dataframe\">\n",
       "  <thead>\n",
       "    <tr style=\"text-align: right;\">\n",
       "      <th></th>\n",
       "      <th>plan</th>\n",
       "      <th>price</th>\n",
       "      <th>square</th>\n",
       "      <th>address</th>\n",
       "    </tr>\n",
       "  </thead>\n",
       "  <tbody>\n",
       "    <tr>\n",
       "      <th>0</th>\n",
       "      <td>1-к апартаменты</td>\n",
       "      <td>1.906000e+06</td>\n",
       "      <td>37.940000</td>\n",
       "      <td>5</td>\n",
       "    </tr>\n",
       "    <tr>\n",
       "      <th>1</th>\n",
       "      <td>1-к квартира</td>\n",
       "      <td>2.304424e+06</td>\n",
       "      <td>34.852677</td>\n",
       "      <td>691</td>\n",
       "    </tr>\n",
       "    <tr>\n",
       "      <th>2</th>\n",
       "      <td>2-к апартаменты</td>\n",
       "      <td>7.071733e+06</td>\n",
       "      <td>70.200000</td>\n",
       "      <td>3</td>\n",
       "    </tr>\n",
       "    <tr>\n",
       "      <th>3</th>\n",
       "      <td>2-к квартира</td>\n",
       "      <td>3.166013e+06</td>\n",
       "      <td>50.513472</td>\n",
       "      <td>913</td>\n",
       "    </tr>\n",
       "    <tr>\n",
       "      <th>4</th>\n",
       "      <td>3-к апартаменты</td>\n",
       "      <td>7.256667e+06</td>\n",
       "      <td>104.666667</td>\n",
       "      <td>3</td>\n",
       "    </tr>\n",
       "    <tr>\n",
       "      <th>5</th>\n",
       "      <td>3-к квартира</td>\n",
       "      <td>4.352881e+06</td>\n",
       "      <td>70.863471</td>\n",
       "      <td>605</td>\n",
       "    </tr>\n",
       "    <tr>\n",
       "      <th>6</th>\n",
       "      <td>4-к апартаменты</td>\n",
       "      <td>7.990000e+06</td>\n",
       "      <td>125.000000</td>\n",
       "      <td>1</td>\n",
       "    </tr>\n",
       "    <tr>\n",
       "      <th>7</th>\n",
       "      <td>4-к квартира</td>\n",
       "      <td>6.566282e+06</td>\n",
       "      <td>103.325275</td>\n",
       "      <td>91</td>\n",
       "    </tr>\n",
       "    <tr>\n",
       "      <th>8</th>\n",
       "      <td>5-к квартира</td>\n",
       "      <td>1.205364e+07</td>\n",
       "      <td>164.700000</td>\n",
       "      <td>11</td>\n",
       "    </tr>\n",
       "    <tr>\n",
       "      <th>9</th>\n",
       "      <td>6-к квартира</td>\n",
       "      <td>1.250000e+07</td>\n",
       "      <td>179.000000</td>\n",
       "      <td>2</td>\n",
       "    </tr>\n",
       "    <tr>\n",
       "      <th>10</th>\n",
       "      <td>&gt; 9-к квартира</td>\n",
       "      <td>8.350000e+05</td>\n",
       "      <td>18.000000</td>\n",
       "      <td>1</td>\n",
       "    </tr>\n",
       "    <tr>\n",
       "      <th>11</th>\n",
       "      <td>Апартаменты-студия</td>\n",
       "      <td>1.796427e+06</td>\n",
       "      <td>27.818182</td>\n",
       "      <td>11</td>\n",
       "    </tr>\n",
       "    <tr>\n",
       "      <th>12</th>\n",
       "      <td>Квартира-студия</td>\n",
       "      <td>2.049695e+06</td>\n",
       "      <td>29.173239</td>\n",
       "      <td>71</td>\n",
       "    </tr>\n",
       "    <tr>\n",
       "      <th>13</th>\n",
       "      <td>Своб. планировка</td>\n",
       "      <td>6.690000e+06</td>\n",
       "      <td>110.100000</td>\n",
       "      <td>3</td>\n",
       "    </tr>\n",
       "    <tr>\n",
       "      <th>14</th>\n",
       "      <td>Студия</td>\n",
       "      <td>1.922362e+06</td>\n",
       "      <td>28.084615</td>\n",
       "      <td>13</td>\n",
       "    </tr>\n",
       "  </tbody>\n",
       "</table>\n",
       "</div>"
      ],
      "text/plain": [
       "                  plan         price      square  address\n",
       "0      1-к апартаменты  1.906000e+06   37.940000        5\n",
       "1         1-к квартира  2.304424e+06   34.852677      691\n",
       "2      2-к апартаменты  7.071733e+06   70.200000        3\n",
       "3         2-к квартира  3.166013e+06   50.513472      913\n",
       "4      3-к апартаменты  7.256667e+06  104.666667        3\n",
       "5         3-к квартира  4.352881e+06   70.863471      605\n",
       "6      4-к апартаменты  7.990000e+06  125.000000        1\n",
       "7         4-к квартира  6.566282e+06  103.325275       91\n",
       "8         5-к квартира  1.205364e+07  164.700000       11\n",
       "9         6-к квартира  1.250000e+07  179.000000        2\n",
       "10      > 9-к квартира  8.350000e+05   18.000000        1\n",
       "11  Апартаменты-студия  1.796427e+06   27.818182       11\n",
       "12     Квартира-студия  2.049695e+06   29.173239       71\n",
       "13    Своб. планировка  6.690000e+06  110.100000        3\n",
       "14              Студия  1.922362e+06   28.084615       13"
      ]
     },
     "execution_count": 11,
     "metadata": {},
     "output_type": "execute_result"
    }
   ],
   "source": [
    "df.groupby(['plan']).agg({'price':np.mean,\n",
    "                             'square': np.mean,\n",
    "                             'address': np.ma.count}).reset_index()"
   ]
  },
  {
   "cell_type": "markdown",
   "metadata": {},
   "source": [
    "#### Группировка по этажам"
   ]
  },
  {
   "cell_type": "code",
   "execution_count": 12,
   "metadata": {},
   "outputs": [
    {
     "data": {
      "text/html": [
       "<div>\n",
       "<style scoped>\n",
       "    .dataframe tbody tr th:only-of-type {\n",
       "        vertical-align: middle;\n",
       "    }\n",
       "\n",
       "    .dataframe tbody tr th {\n",
       "        vertical-align: top;\n",
       "    }\n",
       "\n",
       "    .dataframe thead th {\n",
       "        text-align: right;\n",
       "    }\n",
       "</style>\n",
       "<table border=\"1\" class=\"dataframe\">\n",
       "  <thead>\n",
       "    <tr style=\"text-align: right;\">\n",
       "      <th></th>\n",
       "      <th>floor</th>\n",
       "      <th>price</th>\n",
       "      <th>square</th>\n",
       "      <th>plan</th>\n",
       "    </tr>\n",
       "  </thead>\n",
       "  <tbody>\n",
       "    <tr>\n",
       "      <th>0</th>\n",
       "      <td>1</td>\n",
       "      <td>2.494408e+06</td>\n",
       "      <td>47.164742</td>\n",
       "      <td>329</td>\n",
       "    </tr>\n",
       "    <tr>\n",
       "      <th>1</th>\n",
       "      <td>10</td>\n",
       "      <td>3.669932e+06</td>\n",
       "      <td>53.627273</td>\n",
       "      <td>66</td>\n",
       "    </tr>\n",
       "    <tr>\n",
       "      <th>2</th>\n",
       "      <td>11</td>\n",
       "      <td>3.942964e+06</td>\n",
       "      <td>55.054762</td>\n",
       "      <td>42</td>\n",
       "    </tr>\n",
       "    <tr>\n",
       "      <th>3</th>\n",
       "      <td>12</td>\n",
       "      <td>4.258627e+06</td>\n",
       "      <td>54.563636</td>\n",
       "      <td>33</td>\n",
       "    </tr>\n",
       "    <tr>\n",
       "      <th>4</th>\n",
       "      <td>13</td>\n",
       "      <td>4.334045e+06</td>\n",
       "      <td>61.231707</td>\n",
       "      <td>41</td>\n",
       "    </tr>\n",
       "    <tr>\n",
       "      <th>5</th>\n",
       "      <td>14</td>\n",
       "      <td>4.168142e+06</td>\n",
       "      <td>56.502500</td>\n",
       "      <td>40</td>\n",
       "    </tr>\n",
       "    <tr>\n",
       "      <th>6</th>\n",
       "      <td>15</td>\n",
       "      <td>4.804686e+06</td>\n",
       "      <td>69.933333</td>\n",
       "      <td>30</td>\n",
       "    </tr>\n",
       "    <tr>\n",
       "      <th>7</th>\n",
       "      <td>16</td>\n",
       "      <td>4.234700e+06</td>\n",
       "      <td>60.997059</td>\n",
       "      <td>34</td>\n",
       "    </tr>\n",
       "    <tr>\n",
       "      <th>8</th>\n",
       "      <td>17</td>\n",
       "      <td>4.994075e+06</td>\n",
       "      <td>57.968750</td>\n",
       "      <td>16</td>\n",
       "    </tr>\n",
       "    <tr>\n",
       "      <th>9</th>\n",
       "      <td>18</td>\n",
       "      <td>4.700437e+06</td>\n",
       "      <td>63.711111</td>\n",
       "      <td>18</td>\n",
       "    </tr>\n",
       "    <tr>\n",
       "      <th>10</th>\n",
       "      <td>19</td>\n",
       "      <td>5.365873e+06</td>\n",
       "      <td>63.468182</td>\n",
       "      <td>22</td>\n",
       "    </tr>\n",
       "    <tr>\n",
       "      <th>11</th>\n",
       "      <td>2</td>\n",
       "      <td>3.161222e+06</td>\n",
       "      <td>53.397382</td>\n",
       "      <td>382</td>\n",
       "    </tr>\n",
       "    <tr>\n",
       "      <th>12</th>\n",
       "      <td>20</td>\n",
       "      <td>7.004750e+06</td>\n",
       "      <td>66.008333</td>\n",
       "      <td>12</td>\n",
       "    </tr>\n",
       "    <tr>\n",
       "      <th>13</th>\n",
       "      <td>21</td>\n",
       "      <td>3.889000e+06</td>\n",
       "      <td>55.587500</td>\n",
       "      <td>8</td>\n",
       "    </tr>\n",
       "    <tr>\n",
       "      <th>14</th>\n",
       "      <td>22</td>\n",
       "      <td>6.405167e+06</td>\n",
       "      <td>77.316667</td>\n",
       "      <td>6</td>\n",
       "    </tr>\n",
       "    <tr>\n",
       "      <th>15</th>\n",
       "      <td>23</td>\n",
       "      <td>3.955222e+06</td>\n",
       "      <td>50.866667</td>\n",
       "      <td>9</td>\n",
       "    </tr>\n",
       "    <tr>\n",
       "      <th>16</th>\n",
       "      <td>24</td>\n",
       "      <td>3.772556e+06</td>\n",
       "      <td>50.177778</td>\n",
       "      <td>9</td>\n",
       "    </tr>\n",
       "    <tr>\n",
       "      <th>17</th>\n",
       "      <td>25</td>\n",
       "      <td>4.460700e+06</td>\n",
       "      <td>53.790000</td>\n",
       "      <td>10</td>\n",
       "    </tr>\n",
       "    <tr>\n",
       "      <th>18</th>\n",
       "      <td>3</td>\n",
       "      <td>3.066311e+06</td>\n",
       "      <td>51.250512</td>\n",
       "      <td>293</td>\n",
       "    </tr>\n",
       "    <tr>\n",
       "      <th>19</th>\n",
       "      <td>4</td>\n",
       "      <td>3.140960e+06</td>\n",
       "      <td>50.484586</td>\n",
       "      <td>266</td>\n",
       "    </tr>\n",
       "    <tr>\n",
       "      <th>20</th>\n",
       "      <td>5</td>\n",
       "      <td>2.974095e+06</td>\n",
       "      <td>48.733333</td>\n",
       "      <td>303</td>\n",
       "    </tr>\n",
       "    <tr>\n",
       "      <th>21</th>\n",
       "      <td>6</td>\n",
       "      <td>4.193501e+06</td>\n",
       "      <td>60.294595</td>\n",
       "      <td>111</td>\n",
       "    </tr>\n",
       "    <tr>\n",
       "      <th>22</th>\n",
       "      <td>7</td>\n",
       "      <td>3.938630e+06</td>\n",
       "      <td>58.402679</td>\n",
       "      <td>112</td>\n",
       "    </tr>\n",
       "    <tr>\n",
       "      <th>23</th>\n",
       "      <td>8</td>\n",
       "      <td>3.457124e+06</td>\n",
       "      <td>54.052459</td>\n",
       "      <td>122</td>\n",
       "    </tr>\n",
       "    <tr>\n",
       "      <th>24</th>\n",
       "      <td>9</td>\n",
       "      <td>3.821078e+06</td>\n",
       "      <td>58.260000</td>\n",
       "      <td>110</td>\n",
       "    </tr>\n",
       "  </tbody>\n",
       "</table>\n",
       "</div>"
      ],
      "text/plain": [
       "   floor         price     square  plan\n",
       "0      1  2.494408e+06  47.164742   329\n",
       "1     10  3.669932e+06  53.627273    66\n",
       "2     11  3.942964e+06  55.054762    42\n",
       "3     12  4.258627e+06  54.563636    33\n",
       "4     13  4.334045e+06  61.231707    41\n",
       "5     14  4.168142e+06  56.502500    40\n",
       "6     15  4.804686e+06  69.933333    30\n",
       "7     16  4.234700e+06  60.997059    34\n",
       "8     17  4.994075e+06  57.968750    16\n",
       "9     18  4.700437e+06  63.711111    18\n",
       "10    19  5.365873e+06  63.468182    22\n",
       "11     2  3.161222e+06  53.397382   382\n",
       "12    20  7.004750e+06  66.008333    12\n",
       "13    21  3.889000e+06  55.587500     8\n",
       "14    22  6.405167e+06  77.316667     6\n",
       "15    23  3.955222e+06  50.866667     9\n",
       "16    24  3.772556e+06  50.177778     9\n",
       "17    25  4.460700e+06  53.790000    10\n",
       "18     3  3.066311e+06  51.250512   293\n",
       "19     4  3.140960e+06  50.484586   266\n",
       "20     5  2.974095e+06  48.733333   303\n",
       "21     6  4.193501e+06  60.294595   111\n",
       "22     7  3.938630e+06  58.402679   112\n",
       "23     8  3.457124e+06  54.052459   122\n",
       "24     9  3.821078e+06  58.260000   110"
      ]
     },
     "execution_count": 12,
     "metadata": {},
     "output_type": "execute_result"
    }
   ],
   "source": [
    "df.groupby(['floor']).agg({'price':np.mean,\n",
    "                             'square': np.mean,\n",
    "                             'plan': np.ma.count}).reset_index()"
   ]
  },
  {
   "cell_type": "markdown",
   "metadata": {},
   "source": [
    "### 4. Оценка, где самые дорогие/дешевые квартиры"
   ]
  },
  {
   "cell_type": "code",
   "execution_count": 14,
   "metadata": {},
   "outputs": [
    {
     "data": {
      "text/plain": [
       "0    р-н Ленинский\n",
       "Name: address, dtype: object"
      ]
     },
     "execution_count": 14,
     "metadata": {},
     "output_type": "execute_result"
    }
   ],
   "source": [
    "# самые дорогие квартиры\n",
    "dfl = df.groupby(['address']).agg({'price':np.mean})\n",
    "dfl = dfl.nlargest(1,'price').reset_index()\n",
    "dfl['address']"
   ]
  },
  {
   "cell_type": "code",
   "execution_count": 15,
   "metadata": {},
   "outputs": [
    {
     "data": {
      "text/plain": [
       "0    р-н Орджоникидзевский\n",
       "Name: address, dtype: object"
      ]
     },
     "execution_count": 15,
     "metadata": {},
     "output_type": "execute_result"
    }
   ],
   "source": [
    "# самые дешевые квартиры\n",
    "dfl = df.groupby(['address']).agg({'price':np.mean})\n",
    "dfl = dfl.nsmallest(1,'price').reset_index()\n",
    "dfl['address']"
   ]
  },
  {
   "cell_type": "markdown",
   "metadata": {},
   "source": [
    "### 5. Визуализация данных"
   ]
  },
  {
   "cell_type": "markdown",
   "metadata": {},
   "source": [
    "#### Гистограмма"
   ]
  },
  {
   "cell_type": "code",
   "execution_count": 16,
   "metadata": {},
   "outputs": [
    {
     "data": {
      "text/plain": [
       "<matplotlib.axes._subplots.AxesSubplot at 0x13bd0cc0490>"
      ]
     },
     "execution_count": 16,
     "metadata": {},
     "output_type": "execute_result"
    },
    {
     "data": {
      "image/png": "[encoded data removed]",
      "text/plain": [
       "<Figure size 432x288 with 1 Axes>"
      ]
     },
     "metadata": {
      "needs_background": "light"
     },
     "output_type": "display_data"
    }
   ],
   "source": [
    "df['address'].value_counts().plot(kind='bar')"
   ]
  },
  {
   "cell_type": "code",
   "execution_count": 17,
   "metadata": {
    "scrolled": true
   },
   "outputs": [
    {
     "data": {
      "text/plain": [
       "<matplotlib.axes._subplots.AxesSubplot at 0x13bd140dca0>"
      ]
     },
     "execution_count": 17,
     "metadata": {},
     "output_type": "execute_result"
    },
    {
     "data": {
      "image/png": "[encoded data removed]",
      "text/plain": [
       "<Figure size 432x288 with 1 Axes>"
      ]
     },
     "metadata": {
      "needs_background": "light"
     },
     "output_type": "display_data"
    }
   ],
   "source": [
    "df['price'].hist(bins=50)"
   ]
  },
  {
   "cell_type": "markdown",
   "metadata": {},
   "source": [
    "#### Ящик с усами"
   ]
  },
  {
   "cell_type": "code",
   "execution_count": 18,
   "metadata": {},
   "outputs": [
    {
     "data": {
      "text/plain": [
       "2850000.0"
      ]
     },
     "execution_count": 18,
     "metadata": {},
     "output_type": "execute_result"
    }
   ],
   "source": [
    "np.median(df['price'])"
   ]
  },
  {
   "cell_type": "code",
   "execution_count": 19,
   "metadata": {},
   "outputs": [
    {
     "data": {
      "text/plain": [
       "<matplotlib.axes._subplots.AxesSubplot at 0x13bd153b1f0>"
      ]
     },
     "execution_count": 19,
     "metadata": {},
     "output_type": "execute_result"
    },
    {
     "data": {
      "image/png": "[encoded data removed]",
      "text/plain": [
       "<Figure size 432x288 with 1 Axes>"
      ]
     },
     "metadata": {
      "needs_background": "light"
     },
     "output_type": "display_data"
    }
   ],
   "source": [
    "df.boxplot(column='price')"
   ]
  },
  {
   "cell_type": "code",
   "execution_count": 20,
   "metadata": {},
   "outputs": [
    {
     "name": "stdout",
     "output_type": "stream",
     "text": [
      "Populating the interactive namespace from numpy and matplotlib\n"
     ]
    },
    {
     "data": {
      "image/png": "[encoded data removed]",
      "text/plain": [
       "<Figure size 2160x720 with 1 Axes>"
      ]
     },
     "metadata": {
      "needs_background": "light"
     },
     "output_type": "display_data"
    }
   ],
   "source": [
    "%pylab inline\n",
    "import matplotlib.pyplot as plt\n",
    "\n",
    "df.boxplot(column='price',  by='address', figsize=(30,10))\n",
    "plt.show()"
   ]
  },
  {
   "cell_type": "code",
   "execution_count": 21,
   "metadata": {},
   "outputs": [
    {
     "data": {
      "image/png": "[encoded data removed]",
      "text/plain": [
       "<Figure size 720x720 with 1 Axes>"
      ]
     },
     "metadata": {
      "needs_background": "light"
     },
     "output_type": "display_data"
    }
   ],
   "source": [
    "df.boxplot(column='price',  by='floor', figsize=(10,10))\n",
    "plt.show()"
   ]
  },
  {
   "cell_type": "code",
   "execution_count": 22,
   "metadata": {
    "scrolled": false
   },
   "outputs": [
    {
     "data": {
      "image/png": "[encoded data removed]",
      "text/plain": [
       "<Figure size 2160x720 with 1 Axes>"
      ]
     },
     "metadata": {
      "needs_background": "light"
     },
     "output_type": "display_data"
    }
   ],
   "source": [
    "df.boxplot(column='price',  by='plan', figsize=(30,10))\n",
    "plt.show()"
   ]
  },
  {
   "cell_type": "markdown",
   "metadata": {},
   "source": [
    "#### Разброс значений"
   ]
  },
  {
   "cell_type": "code",
   "execution_count": null,
   "metadata": {
    "scrolled": true
   },
   "outputs": [],
   "source": [
    "import matplotlib.pyplot as plt\n",
    "fig, axes = plt.subplots(nrows=3,ncols=3,figsize=(15,15))\n",
    "\n",
    "for i, (name, group) in enumerate(df.groupby('address')):\n",
    "    axes = axes.flatten()\n",
    "    axes[i].scatter(group['price'],group['square'], color ='blue')\n",
    "    axes[i].set_title(name)\n",
    "    axes[i].set(xlabel='Стоимость', ylabel='Площадь, м2')\n",
    "    \n",
    "fig.tight_layout()  "
   ]
  },
  {
   "cell_type": "markdown",
   "metadata": {},
   "source": [
    "### 6. Рейтинг квартир с заданными весам"
   ]
  },
  {
   "cell_type": "code",
   "execution_count": null,
   "metadata": {},
   "outputs": [],
   "source": [
    "def weighted_rating(df, features, weights):\n",
    "    for c in features:\n",
    "        count_ = df[c].value_counts()\n",
    "        df.loc[:, ('count_'+c)] = df[c].map(count_)*weights[features.index(c)]\n",
    "        \n",
    "    df['raiting']=df.iloc[:, df.columns.str.contains('count_')].sum(1) \n",
    "    df = df.sort_values(by=['raiting'], ascending = False)\n",
    "    df.drop(['raiting'], axis='columns', inplace=True)\n",
    "    for c in features:\n",
    "        df.drop( ['count_'+c], axis='columns', inplace = True)\n",
    "        \n",
    "    return df"
   ]
  },
  {
   "cell_type": "code",
   "execution_count": null,
   "metadata": {},
   "outputs": [],
   "source": [
    "df1 = weighted_rating(df, ['price', 'square'], [0.4, 0.6])\n",
    "df1"
   ]
  },
  {
   "cell_type": "markdown",
   "metadata": {},
   "source": [
    "### 7. Оценка самой популярной площади, района, кол-ва комнат"
   ]
  },
  {
   "cell_type": "code",
   "execution_count": null,
   "metadata": {},
   "outputs": [],
   "source": [
    "# самая популярная площадь\n",
    "df.square.mode()"
   ]
  },
  {
   "cell_type": "code",
   "execution_count": null,
   "metadata": {},
   "outputs": [],
   "source": [
    "# самый популярный район\n",
    "df.address.mode()"
   ]
  },
  {
   "cell_type": "code",
   "execution_count": null,
   "metadata": {},
   "outputs": [],
   "source": [
    "# самое популярное количество комнат\n",
    "df.plan.mode()"
   ]
  }
 ],
 "metadata": {
  "kernelspec": {
   "display_name": "Python 3",
   "language": "python",
   "name": "python3"
  },
  "language_info": {
   "codemirror_mode": {
    "name": "ipython",
    "version": 3
   },
   "file_extension": ".py",
   "mimetype": "text/x-python",
   "name": "python",
   "nbconvert_exporter": "python",
   "pygments_lexer": "ipython3",
   "version": "3.8.3"
  }
 },
 "nbformat": 4,
 "nbformat_minor": 4
}
